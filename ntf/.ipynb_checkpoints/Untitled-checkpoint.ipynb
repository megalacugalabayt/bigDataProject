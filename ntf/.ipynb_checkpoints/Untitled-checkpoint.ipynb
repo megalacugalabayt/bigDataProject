{
 "cells": [
  {
   "cell_type": "code",
   "execution_count": 3,
   "id": "e2dafe00",
   "metadata": {},
   "outputs": [],
   "source": [
    "import pandas as pd\n",
    "ratings_df = pd.read_csv(\"Netflix_Dataset_Rating.csv\")"
   ]
  },
  {
   "cell_type": "code",
   "execution_count": 4,
   "id": "dd788738",
   "metadata": {},
   "outputs": [],
   "source": [
    "cutted=ratings_df.head(5000000)"
   ]
  },
  {
   "cell_type": "code",
   "execution_count": 5,
   "id": "2bd01273",
   "metadata": {},
   "outputs": [],
   "source": [
    "cutted.to_csv(\"limited_data.csv\", index=False)"
   ]
  },
  {
   "cell_type": "code",
   "execution_count": 6,
   "id": "ecb1d626",
   "metadata": {},
   "outputs": [],
   "source": [
    "ratings_df = pd.read_csv(\"Netflix_Dataset_Rating.csv\")"
   ]
  },
  {
   "cell_type": "code",
   "execution_count": 8,
   "id": "011a898d",
   "metadata": {},
   "outputs": [
    {
     "data": {
      "text/plain": [
       "User_ID     5000000\n",
       "Rating      5000000\n",
       "Movie_ID    5000000\n",
       "dtype: int64"
      ]
     },
     "execution_count": 8,
     "metadata": {},
     "output_type": "execute_result"
    }
   ],
   "source": [
    "ratings_df.count()"
   ]
  },
  {
   "cell_type": "code",
   "execution_count": null,
   "id": "25dcf632",
   "metadata": {},
   "outputs": [],
   "source": []
  }
 ],
 "metadata": {
  "kernelspec": {
   "display_name": "Python 3 (ipykernel)",
   "language": "python",
   "name": "python3"
  },
  "language_info": {
   "codemirror_mode": {
    "name": "ipython",
    "version": 3
   },
   "file_extension": ".py",
   "mimetype": "text/x-python",
   "name": "python",
   "nbconvert_exporter": "python",
   "pygments_lexer": "ipython3",
   "version": "3.7.4"
  }
 },
 "nbformat": 4,
 "nbformat_minor": 5
}
